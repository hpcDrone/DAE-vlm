{
 "cells": [
  {
   "cell_type": "code",
   "execution_count": 1,
   "id": "994c99bf-3ee7-4b66-abf4-bdce10b86c0c",
   "metadata": {},
   "outputs": [
    {
     "name": "stdout",
     "output_type": "stream",
     "text": [
      "{'fp16': {'enabled': 'auto', 'loss_scale': 0, 'loss_scale_window': 1000, 'initial_scale_power': 16, 'hysteresis': 2, 'min_loss_scale': 1}, 'bf16': {'enabled': 'auto'}, 'optimizer': {'type': 'AdamW', 'params': {'lr': 'auto', 'betas': 'auto', 'eps': 'auto', 'weight_decay': 'auto'}}, 'scheduler': {'type': 'WarmupLR', 'params': {'warmup_min_lr': 'auto', 'warmup_max_lr': 'auto', 'warmup_num_steps': 'auto'}}, 'zero_optimization': {'stage': 3, 'offload_optimizer': {'device': 'cpu', 'pin_memory': True}, 'offload_param': {'device': 'cpu', 'pin_memory': True}, 'overlap_comm': True, 'contiguous_gradients': True, 'sub_group_size': 1000000000.0, 'reduce_bucket_size': 'auto', 'stage3_prefetch_bucket_size': 'auto', 'stage3_param_persistence_threshold': 'auto', 'stage3_max_live_parameters': 1000000000.0, 'stage3_max_reuse_distance': 1000000000.0, 'gather_16bit_weights_on_model_save': True}, 'gradient_accumulation_steps': 'auto', 'gradient_clipping': 'auto', 'train_batch_size': 'auto', 'train_micro_batch_size_per_gpu': 'auto', 'steps_per_print': 100000.0, 'wall_clock_breakdown': False}\n"
     ]
    }
   ],
   "source": [
    "import json\n",
    "\n",
    "with open(\"zero3_offload.json\", \"r\", encoding=\"utf-8\") as f:\n",
    "    data = json.load(f)\n",
    "\n",
    "# 내용 확인\n",
    "print(data)"
   ]
  },
  {
   "cell_type": "code",
   "execution_count": 14,
   "id": "d142466e-8aa3-451c-8873-f53e53db643c",
   "metadata": {},
   "outputs": [],
   "source": [
    "data['zero_optimization']['offload_param']['device'] = 'cpu'"
   ]
  },
  {
   "cell_type": "code",
   "execution_count": 15,
   "id": "a30cf488-77a9-4b01-9c44-5dc8b712539d",
   "metadata": {},
   "outputs": [],
   "source": [
    "data['zero_optimization']['offload_optimizer']['device'] = 'cpu'"
   ]
  },
  {
   "cell_type": "code",
   "execution_count": 16,
   "id": "39a0ee13-4e7e-4c15-a579-8276cf5e7408",
   "metadata": {},
   "outputs": [
    {
     "data": {
      "text/plain": [
       "{'fp16': {'enabled': 'auto',\n",
       "  'loss_scale': 0,\n",
       "  'loss_scale_window': 1000,\n",
       "  'initial_scale_power': 16,\n",
       "  'hysteresis': 2,\n",
       "  'min_loss_scale': 1},\n",
       " 'bf16': {'enabled': 'auto'},\n",
       " 'optimizer': {'type': 'AdamW',\n",
       "  'params': {'lr': 'auto',\n",
       "   'betas': 'auto',\n",
       "   'eps': 'auto',\n",
       "   'weight_decay': 'auto'}},\n",
       " 'scheduler': {'type': 'WarmupLR',\n",
       "  'params': {'warmup_min_lr': 'auto',\n",
       "   'warmup_max_lr': 'auto',\n",
       "   'warmup_num_steps': 'auto'}},\n",
       " 'zero_optimization': {'stage': 3,\n",
       "  'offload_optimizer': {'device': 'cpu', 'pin_memory': True},\n",
       "  'offload_param': {'device': 'cpu', 'pin_memory': True},\n",
       "  'overlap_comm': True,\n",
       "  'contiguous_gradients': True,\n",
       "  'sub_group_size': 1000000000.0,\n",
       "  'reduce_bucket_size': 'auto',\n",
       "  'stage3_prefetch_bucket_size': 'auto',\n",
       "  'stage3_param_persistence_threshold': 'auto',\n",
       "  'stage3_max_live_parameters': 1000000000.0,\n",
       "  'stage3_max_reuse_distance': 1000000000.0,\n",
       "  'gather_16bit_weights_on_model_save': True},\n",
       " 'gradient_accumulation_steps': 'auto',\n",
       " 'gradient_clipping': 'auto',\n",
       " 'train_batch_size': 'auto',\n",
       " 'train_micro_batch_size_per_gpu': 'auto',\n",
       " 'steps_per_print': 100000.0,\n",
       " 'wall_clock_breakdown': False}"
      ]
     },
     "execution_count": 16,
     "metadata": {},
     "output_type": "execute_result"
    }
   ],
   "source": [
    "data"
   ]
  },
  {
   "cell_type": "code",
   "execution_count": 21,
   "id": "1aca17ca-a0b8-4945-80c3-0fad1c4b6fb0",
   "metadata": {},
   "outputs": [],
   "source": [
    "import json\n",
    "\n",
    "with open(\"zero3_modified_p_o.json\", \"w\") as f:\n",
    "    json.dump(data, f, indent=2)"
   ]
  },
  {
   "cell_type": "code",
   "execution_count": 22,
   "id": "64666916-2a8e-4c5a-8d8b-8814679c773b",
   "metadata": {},
   "outputs": [],
   "source": [
    "import copy\n",
    "\n",
    "# 원본 설정\n",
    "original_config = {\n",
    "    'fp16': {'enabled': 'auto', 'loss_scale': 0, 'loss_scale_window': 1000, 'initial_scale_power': 16, 'hysteresis': 2, 'min_loss_scale': 1},\n",
    "    'bf16': {'enabled': 'auto'},\n",
    "    'optimizer': {'type': 'AdamW', 'params': {'lr': 'auto', 'betas': 'auto', 'eps': 'auto', 'weight_decay': 'auto'}},\n",
    "    'scheduler': {'type': 'WarmupLR', 'params': {'warmup_min_lr': 'auto', 'warmup_max_lr': 'auto', 'warmup_num_steps': 'auto'}},\n",
    "    'zero_optimization': {\n",
    "        'stage': 3,\n",
    "        'offload_optimizer': {'device': 'cpu', 'pin_memory': True},\n",
    "        'offload_param': {'device': 'cpu', 'pin_memory': True},\n",
    "        'overlap_comm': True,\n",
    "        'contiguous_gradients': True,\n",
    "        'sub_group_size': 1000000000.0,\n",
    "        'reduce_bucket_size': 'auto',\n",
    "        'stage3_prefetch_bucket_size': 'auto',\n",
    "        'stage3_param_persistence_threshold': 'auto',\n",
    "        'stage3_max_live_parameters': 1000000000.0,\n",
    "        'stage3_max_reuse_distance': 1000000000.0,\n",
    "        'gather_16bit_weights_on_model_save': True\n",
    "    },\n",
    "    'gradient_accumulation_steps': 'auto',\n",
    "    'gradient_clipping': 'auto',\n",
    "    'train_batch_size': 'auto',\n",
    "    'train_micro_batch_size_per_gpu': 'auto',\n",
    "    'steps_per_print': 100000.0,\n",
    "    'wall_clock_breakdown': False\n",
    "}\n",
    "\n",
    "# 수정 복사본\n",
    "config = copy.deepcopy(original_config)\n",
    "\n",
    "# ✅ 파라미터는 GPU에 유지 (offload_param 제거 또는 None 처리)\n",
    "if 'offload_param' in config['zero_optimization']:\n",
    "    del config['zero_optimization']['offload_param']\n",
    "\n",
    "# ✅ 옵티마이저만 CPU에 남기고 유지\n",
    "config['zero_optimization']['offload_optimizer']['device'] = 'cpu'\n",
    "config['zero_optimization']['offload_optimizer']['pin_memory'] = True"
   ]
  },
  {
   "cell_type": "code",
   "execution_count": 23,
   "id": "5275539c-a543-40b5-ae94-c0a7cb11c2df",
   "metadata": {},
   "outputs": [
    {
     "data": {
      "text/plain": [
       "{'fp16': {'enabled': 'auto',\n",
       "  'loss_scale': 0,\n",
       "  'loss_scale_window': 1000,\n",
       "  'initial_scale_power': 16,\n",
       "  'hysteresis': 2,\n",
       "  'min_loss_scale': 1},\n",
       " 'bf16': {'enabled': 'auto'},\n",
       " 'optimizer': {'type': 'AdamW',\n",
       "  'params': {'lr': 'auto',\n",
       "   'betas': 'auto',\n",
       "   'eps': 'auto',\n",
       "   'weight_decay': 'auto'}},\n",
       " 'scheduler': {'type': 'WarmupLR',\n",
       "  'params': {'warmup_min_lr': 'auto',\n",
       "   'warmup_max_lr': 'auto',\n",
       "   'warmup_num_steps': 'auto'}},\n",
       " 'zero_optimization': {'stage': 3,\n",
       "  'offload_optimizer': {'device': 'cpu', 'pin_memory': True},\n",
       "  'overlap_comm': True,\n",
       "  'contiguous_gradients': True,\n",
       "  'sub_group_size': 1000000000.0,\n",
       "  'reduce_bucket_size': 'auto',\n",
       "  'stage3_prefetch_bucket_size': 'auto',\n",
       "  'stage3_param_persistence_threshold': 'auto',\n",
       "  'stage3_max_live_parameters': 1000000000.0,\n",
       "  'stage3_max_reuse_distance': 1000000000.0,\n",
       "  'gather_16bit_weights_on_model_save': True},\n",
       " 'gradient_accumulation_steps': 'auto',\n",
       " 'gradient_clipping': 'auto',\n",
       " 'train_batch_size': 'auto',\n",
       " 'train_micro_batch_size_per_gpu': 'auto',\n",
       " 'steps_per_print': 100000.0,\n",
       " 'wall_clock_breakdown': False}"
      ]
     },
     "execution_count": 23,
     "metadata": {},
     "output_type": "execute_result"
    }
   ],
   "source": [
    "config"
   ]
  },
  {
   "cell_type": "code",
   "execution_count": 24,
   "id": "7e8d3bee-5f74-4fd7-b31f-5a25b78cae47",
   "metadata": {},
   "outputs": [
    {
     "name": "stdout",
     "output_type": "stream",
     "text": [
      "✅ 수정 완료. 파일 저장됨: zero3_offload_param_gpu.json\n"
     ]
    }
   ],
   "source": [
    "import json\n",
    "with open(\"zero3_offload_param_gpu.json\", \"w\") as f:\n",
    "    json.dump(config, f, indent=2)\n",
    "\n",
    "print(\"✅ 수정 완료. 파일 저장됨: zero3_offload_param_gpu.json\")"
   ]
  },
  {
   "cell_type": "code",
   "execution_count": null,
   "id": "ff94979f-5538-40a3-8405-65d5c0a4dc50",
   "metadata": {},
   "outputs": [],
   "source": []
  }
 ],
 "metadata": {
  "kernelspec": {
   "display_name": "Python 3 (ipykernel)",
   "language": "python",
   "name": "python3"
  },
  "language_info": {
   "codemirror_mode": {
    "name": "ipython",
    "version": 3
   },
   "file_extension": ".py",
   "mimetype": "text/x-python",
   "name": "python",
   "nbconvert_exporter": "python",
   "pygments_lexer": "ipython3",
   "version": "3.11.0rc1"
  }
 },
 "nbformat": 4,
 "nbformat_minor": 5
}
