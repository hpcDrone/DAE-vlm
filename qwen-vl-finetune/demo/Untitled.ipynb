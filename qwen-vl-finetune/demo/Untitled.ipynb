{
 "cells": [
  {
   "cell_type": "code",
   "execution_count": 14,
   "id": "fa60e39e-6bf7-4473-9667-d51a45810e58",
   "metadata": {},
   "outputs": [],
   "source": [
    "import json\n",
    "\n",
    "with open(\".json\", \"r\") as f:\n",
    "    data = json.load(f)\n",
    "\n",
    "# # \"0\"만 남기고 나머지 키 제거\n",
    "# data = {\"0\": data[\"0\"]} if \"0\" in data else {}\n",
    "\n",
    "# # 저장\n",
    "# with open(\"your_file_cleaned.json\", \"w\") as f:\n",
    "#     json.dump(data, f, indent=2, ensure_ascii=False)"
   ]
  },
  {
   "cell_type": "code",
   "execution_count": 28,
   "id": "499e68e9-9777-4546-8eab-323ddc23cef6",
   "metadata": {},
   "outputs": [],
   "source": [
    "img_json = [\n",
    "    {\n",
    "      \"image\": \"10095.png\",\n",
    "      \"conversations\": [\n",
    "        {\n",
    "          \"from\": \"human\",\n",
    "          \"value\": \"Is the value of Favorable 38 in 2015?\\n<image>\"\n",
    "        },\n",
    "        {\n",
    "          \"from\": \"gpt\",\n",
    "          \"value\": \"Yes\"\n",
    "        }\n",
    "      ]\n",
    "    },\n",
    "    {\n",
    "      \"image\": \"10149.png\",\n",
    "      \"conversations\": [\n",
    "        {\n",
    "          \"from\": \"human\",\n",
    "          \"value\": \"In which year the value was 51?\\n<image>\"\n",
    "        },\n",
    "        {\n",
    "          \"from\": \"gpt\",\n",
    "          \"value\": \"2014\"\n",
    "        }\n",
    "      ]\n",
    "    },\n",
    "]"
   ]
  },
  {
   "cell_type": "code",
   "execution_count": null,
   "id": "32b19200-f674-4228-a82e-3377aa3a399a",
   "metadata": {},
   "outputs": [],
   "source": []
  },
  {
   "cell_type": "code",
   "execution_count": 29,
   "id": "81899b37-a6cf-4fc3-9ed6-12ac32e47a64",
   "metadata": {},
   "outputs": [],
   "source": [
    "with open(\"images.json\", \"w\") as f:\n",
    "    json.dump(img_json, f, indent=2, ensure_ascii=False)"
   ]
  },
  {
   "cell_type": "code",
   "execution_count": null,
   "id": "bfe7e9db-a7d6-47a1-a96a-42d0c1872cef",
   "metadata": {},
   "outputs": [],
   "source": []
  }
 ],
 "metadata": {
  "kernelspec": {
   "display_name": "Python 3 (ipykernel)",
   "language": "python",
   "name": "python3"
  },
  "language_info": {
   "codemirror_mode": {
    "name": "ipython",
    "version": 3
   },
   "file_extension": ".py",
   "mimetype": "text/x-python",
   "name": "python",
   "nbconvert_exporter": "python",
   "pygments_lexer": "ipython3",
   "version": "3.11.0rc1"
  }
 },
 "nbformat": 4,
 "nbformat_minor": 5
}
